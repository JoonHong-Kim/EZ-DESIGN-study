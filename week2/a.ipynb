{
 "cells": [
  {
   "cell_type": "code",
   "execution_count": 2,
   "metadata": {},
   "outputs": [
    {
     "data": {
      "text/plain": [
       "1"
      ]
     },
     "execution_count": 2,
     "metadata": {},
     "output_type": "execute_result"
    }
   ],
   "source": [
    "from cache import Cache\n",
    "\n",
    "a = Cache()\n",
    "a.set(\"a\", 1)\n",
    "a.set(\"b\", 2)\n",
    "\n",
    "\n",
    "b = Cache()\n",
    "b.get(\"a\")"
   ]
  },
  {
   "cell_type": "code",
   "execution_count": 3,
   "metadata": {},
   "outputs": [
    {
     "data": {
      "text/plain": [
       "{'batchcomplete': '',\n",
       " 'continue': {'sroffset': 10, 'continue': '-||'},\n",
       " 'query': {'searchinfo': {'totalhits': 35595},\n",
       "  'search': [{'ns': 0,\n",
       "    'title': 'Barack Obama',\n",
       "    'pageid': 534366,\n",
       "    'size': 387954,\n",
       "    'wordcount': 31010,\n",
       "    'snippet': 'Barack Hussein <span class=\"searchmatch\">Obama</span> II (/bəˈrɑːk huːˈseɪn oʊˈbɑːmə/ bə-RAHK hoo-SAYN oh-BAH-mə; born August 4, 1961) is an American politician who served as the 44th',\n",
       "    'timestamp': '2024-02-19T20:22:41Z'},\n",
       "   {'ns': 0,\n",
       "    'title': 'Michelle Obama',\n",
       "    'pageid': 2204744,\n",
       "    'size': 159950,\n",
       "    'wordcount': 14598,\n",
       "    'snippet': 'Michelle LaVaughn Robinson <span class=\"searchmatch\">Obama</span> (born January 17, 1964) is an American attorney and author who served as the first lady of the United States from 2009',\n",
       "    'timestamp': '2024-02-11T19:14:07Z'},\n",
       "   {'ns': 0,\n",
       "    'title': 'Presidency of Barack Obama',\n",
       "    'pageid': 20082093,\n",
       "    'size': 303393,\n",
       "    'wordcount': 26607,\n",
       "    'snippet': '<span class=\"searchmatch\">Obama\\'s</span> tenure as the 44th president of the United States began with his first inauguration on January 20, 2009, and ended on January 20, 2017. <span class=\"searchmatch\">Obama</span>',\n",
       "    'timestamp': '2024-02-19T11:46:33Z'},\n",
       "   {'ns': 0,\n",
       "    'title': 'Barack Obama Sr.',\n",
       "    'pageid': 16136849,\n",
       "    'size': 41793,\n",
       "    'wordcount': 4168,\n",
       "    'snippet': 'Barack Hussein <span class=\"searchmatch\">Obama</span> Sr. (/ˈbærək huːˈseɪn oʊˈbɑːmə/; born Baraka <span class=\"searchmatch\">Obama</span>, 18 June 1934 – 24 November 1982) was a Kenyan senior governmental economist and',\n",
       "    'timestamp': '2024-02-15T09:36:01Z'},\n",
       "   {'ns': 0,\n",
       "    'title': 'Family of Barack Obama',\n",
       "    'pageid': 17775180,\n",
       "    'size': 168994,\n",
       "    'wordcount': 11441,\n",
       "    'snippet': 'Barack <span class=\"searchmatch\">Obama</span>, the 44th president of the United States, is a prominent American family active in law, education, activism and politics. <span class=\"searchmatch\">Obama\\'s</span> immediate',\n",
       "    'timestamp': '2024-02-11T20:36:10Z'},\n",
       "   {'ns': 0,\n",
       "    'title': 'Barack Obama \"Hope\" poster',\n",
       "    'pageid': 21129442,\n",
       "    'size': 29566,\n",
       "    'wordcount': 2914,\n",
       "    'snippet': 'The Barack <span class=\"searchmatch\">Obama</span> &quot;Hope&quot; poster is an image of US president Barack <span class=\"searchmatch\">Obama</span> designed by American artist Shepard Fairey. The image was widely described as iconic',\n",
       "    'timestamp': '2023-12-29T09:23:32Z'},\n",
       "   {'ns': 0,\n",
       "    'title': 'Obama logo',\n",
       "    'pageid': 19991458,\n",
       "    'size': 9357,\n",
       "    'wordcount': 905,\n",
       "    'snippet': 'The <span class=\"searchmatch\">Obama</span> logo was the primary symbol of Barack <span class=\"searchmatch\">Obama\\'s</span> 2008 presidential campaign. The design became one of the most recognized political brand logos',\n",
       "    'timestamp': '2024-02-02T13:58:14Z'},\n",
       "   {'ns': 0,\n",
       "    'title': 'Ann Dunham',\n",
       "    'pageid': 9478182,\n",
       "    'size': 73971,\n",
       "    'wordcount': 7655,\n",
       "    'snippet': 'anthropology and rural development of Indonesia. She was the mother of Barack <span class=\"searchmatch\">Obama</span>, the 44th president of the United States. Born in Wichita, Kansas, Dunham',\n",
       "    'timestamp': '2024-02-12T02:42:41Z'},\n",
       "   {'ns': 0,\n",
       "    'title': 'Barack Obama citizenship conspiracy theories',\n",
       "    'pageid': 20617631,\n",
       "    'size': 208255,\n",
       "    'wordcount': 19124,\n",
       "    'snippet': 'During Barack <span class=\"searchmatch\">Obama\\'s</span> campaign for president in 2008, throughout his presidency and afterwards, there was extensive news coverage of <span class=\"searchmatch\">Obama\\'s</span> religious preference',\n",
       "    'timestamp': '2024-02-07T15:43:11Z'},\n",
       "   {'ns': 0,\n",
       "    'title': 'Malik Obama',\n",
       "    'pageid': 18325614,\n",
       "    'size': 10926,\n",
       "    'wordcount': 949,\n",
       "    'snippet': 'president of the United States, Barack <span class=\"searchmatch\">Obama</span>, and the eldest son of economist Barack <span class=\"searchmatch\">Obama</span> Sr. Abon\\'go Malik &quot;Roy&quot; <span class=\"searchmatch\">Obama</span> was born and raised in Nairobi, Kenya',\n",
       "    'timestamp': '2024-02-21T08:43:11Z'}]}}"
      ]
     },
     "execution_count": 3,
     "metadata": {},
     "output_type": "execute_result"
    }
   ],
   "source": [
    "import requests\n",
    "\n",
    "\n",
    "def search(query: str):\n",
    "    url = \"https://en.wikipedia.org/w/api.php\"\n",
    "    params = {\n",
    "        \"action\": \"query\",\n",
    "        \"list\": \"search\",\n",
    "        \"srsearch\": query,\n",
    "        \"format\": \"json\",\n",
    "    }\n",
    "    respons = requests.get(url, params=params)\n",
    "    result = respons.json()\n",
    "    return result\n",
    "\n",
    "\n",
    "search(\"Obama\")"
   ]
  },
  {
   "cell_type": "code",
   "execution_count": null,
   "metadata": {},
   "outputs": [],
   "source": []
  }
 ],
 "metadata": {
  "kernelspec": {
   "display_name": "base",
   "language": "python",
   "name": "python3"
  },
  "language_info": {
   "codemirror_mode": {
    "name": "ipython",
    "version": 3
   },
   "file_extension": ".py",
   "mimetype": "text/x-python",
   "name": "python",
   "nbconvert_exporter": "python",
   "pygments_lexer": "ipython3",
   "version": "3.9.7"
  }
 },
 "nbformat": 4,
 "nbformat_minor": 2
}
